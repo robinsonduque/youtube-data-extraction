{
 "cells": [
  {
   "cell_type": "code",
   "execution_count": null,
   "id": "39a4b789-2dc9-4614-87eb-d9eee2307a3c",
   "metadata": {},
   "outputs": [],
   "source": [
    "# Limpieza de comentarios\n",
    "import pandas as pd\n",
    "import re\n",
    "\n",
    "def clean_comment(comment):\n",
    "    if pd.isnull(comment):  # Si es NaN, devolvemos string vacío\n",
    "        return ''\n",
    "    # Eliminar URLs\n",
    "    comment = re.sub(r'http[s]?://\\S+', '', comment)\n",
    "    # Emoticones comunes\n",
    "    comment = re.sub(r'[:;=][-~]?[)D]', '', comment) \n",
    "    # Eliminar caracteres no alfabéticos o números\n",
    "    comment = re.sub(r'[^a-zA-Z\\s]', '', comment)\n",
    "    # Eliminar palabras demasiado cortas (como \"a\", \"b\", \"c\")\n",
    "    comment = re.sub(r'\\b\\w{1,2}\\b', '', comment)\n",
    "    # Eliminar espacios múltiples\n",
    "    comment = re.sub(r'\\s+', ' ', comment).strip()\n",
    "    return comment\n",
    "\n",
    "def clean_comments(csv_path):\n",
    "    # Cargar los datos de comentarios\n",
    "    df = pd.read_csv(csv_path)\n",
    "    \n",
    "    # Limpiar los comentarios\n",
    "    df['cleaned_comment'] = df['text'].apply(clean_comment)\n",
    "    \n",
    "    # Eliminar las filas donde el comentario está vacío después de la limpieza\n",
    "    # También se eliminan los replies a comentarios vacíos.\n",
    "    print(\"Cantidad de mensajes iniciales: \", df.shape[0])\n",
    "    mask_empty = (df['cleaned_comment'].str.strip() == '')\n",
    "    print(\"Comentarios vacíos: \", mask_empty.sum())\n",
    "    video_ids_to_filter = df[mask_empty][\"comment_id\"]\n",
    "    mask_replies = ((df['is_reply'] == True) & (df['reply_to_comment_id'].isin(video_ids_to_filter)))\n",
    "    print(\"Replies a comentarios vacíos: \", mask_replies.sum())\n",
    "    mask_to_remove = mask_empty | mask_replies\n",
    "    df = df[~mask_to_remove] #Eliminación de mensajes vacíos o replies a mensajes vacíos\n",
    "    print(\"Cantidad de mensajes finales: \", df.shape[0])\n",
    "    \n",
    "    # Guardar los resultados limpios en un nuevo archivo CSV\n",
    "    #df.to_csv('../data/cleaned_comments.csv', index=False)\n",
    "    print(\"Los comentarios han sido limpiados y guardados en '../data/cleaned_comments.csv'.\")\n",
    "    return df\n",
    "\n",
    "cleaned_comments = clean_comments('../data/comments.csv')"
   ]
  }
 ],
 "metadata": {
  "kernelspec": {
   "display_name": "Python 3 (ipykernel)",
   "language": "python",
   "name": "python3"
  },
  "language_info": {
   "codemirror_mode": {
    "name": "ipython",
    "version": 3
   },
   "file_extension": ".py",
   "mimetype": "text/x-python",
   "name": "python",
   "nbconvert_exporter": "python",
   "pygments_lexer": "ipython3",
   "version": "3.12.2"
  }
 },
 "nbformat": 4,
 "nbformat_minor": 5
}

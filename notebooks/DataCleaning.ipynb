{
 "cells": [
  {
   "cell_type": "code",
   "execution_count": null,
   "id": "39a4b789-2dc9-4614-87eb-d9eee2307a3c",
   "metadata": {},
   "outputs": [
    {
     "name": "stdout",
     "output_type": "stream",
     "text": [
      "Cantidad de mensajes iniciales:  73147\n",
      "Comentarios vacíos:  1252\n",
      "Replies a comentarios vacíos:  26\n",
      "Cantidad de mensajes finales:  71870\n",
      "Los comentarios han sido limpiados y guardados en '../data/cleaned_comments.csv'.\n"
     ]
    }
   ],
   "source": [
    "# Cleaning script for YouTube comments\n",
    "import pandas as pd\n",
    "import re\n",
    "\n",
    "def clean_comment(comment):\n",
    "    if pd.isnull(comment):  # If it's NaN, return an empty string\n",
    "        return ''\n",
    "    # Remove URLs\n",
    "    comment = re.sub(r'(http[s]?://\\S+|www\\.\\S+)', '', comment)\n",
    "    # Common emoticons\n",
    "    comment = re.sub(r'[:;=][-~]?[)D]', '', comment) \n",
    "    # Remove non-alphabetic characters or numbers\n",
    "    comment = re.sub(r'[^a-zA-ZáéíóúÁÉÍÓÚñÑüÜ\\s]', '', comment)\n",
    "    # Remove very short words (like \"a\", \"b\", \"c\")\n",
    "    comment = re.sub(r'\\b\\w{1,2}\\b', '', comment)\n",
    "    # Remove multiple spaces\n",
    "    comment = re.sub(r'\\s+', ' ', comment).strip()\n",
    "    return comment\n",
    "\n",
    "def clean_comments(csv_path):\n",
    "    # Load the comment data\n",
    "    df = pd.read_csv(csv_path)\n",
    "    \n",
    "    # Clean the comments\n",
    "    df['cleaned_comment'] = df['text'].apply(clean_comment)\n",
    "    \n",
    "    # Remove rows where the comment is empty after cleaning\n",
    "    # Replies to empty comments are also removed\n",
    "    print(\"Cantidad de mensajes iniciales: \", df.shape[0])\n",
    "    mask_empty = (df['cleaned_comment'].str.strip() == '')\n",
    "    print(\"Comentarios vacíos: \", mask_empty.sum())\n",
    "    video_ids_to_filter = df[mask_empty][\"comment_id\"]\n",
    "    mask_replies = ((df['is_reply'] == True) & (df['reply_to_comment_id'].isin(video_ids_to_filter)))\n",
    "    print(\"Replies a comentarios vacíos: \", mask_replies.sum())\n",
    "    mask_to_remove = mask_empty | mask_replies\n",
    "    df = df[~mask_to_remove] # Remove empty messages or replies to empty messages\n",
    "    print(\"Cantidad de mensajes finales: \", df.shape[0])\n",
    "    \n",
    "    # Save the cleaned results to a new CSV file\n",
    "    #df.to_csv('../data/cleaned_comments.csv', index=False)\n",
    "    print(\"Los comentarios han sido limpiados y guardados en '../data/cleaned_comments.csv'.\")\n",
    "    return df\n",
    "\n",
    "cleaned_comments = clean_comments('../data/comments.csv')"
   ]
  },
  {
   "cell_type": "code",
   "execution_count": null,
   "id": "074462e4-3055-473e-955a-9e385e774edc",
   "metadata": {},
   "outputs": [
    {
     "name": "stdout",
     "output_type": "stream",
     "text": [
      "Datos de comentarios y videos por usuario guardados en: ../data/user_comment_video_counts.csv\n"
     ]
    }
   ],
   "source": [
    "# Statistics on the number of comments per user and the number of videos they have commented on\n",
    "def group_comments_by_user(csv_path):\n",
    "    # Load the comment data\n",
    "    df = pd.read_csv(csv_path)\n",
    "    \n",
    "    # Group by author name and count the number of comments per user\n",
    "    user_comment_count = df['author_name'].value_counts().reset_index()\n",
    "    user_comment_count.columns = ['author_name', 'comment_count']\n",
    "    \n",
    "    # Count how many different videos each user has commented on\n",
    "    user_video_count = df.groupby('author_name')['video_id'].nunique().reset_index()\n",
    "    user_video_count.columns = ['author_name', 'video_count']\n",
    "    \n",
    "    # Merge both tables (comments and videos)\n",
    "    user_data = pd.merge(user_comment_count, user_video_count, on='author_name')\n",
    "    \n",
    "    # Sort users by number of comments\n",
    "    user_data = user_data.sort_values(by='comment_count', ascending=False)\n",
    "    \n",
    "    return user_data\n",
    "\n",
    "def save_grouped_comments(user_data, output_path='../data/user_comment_video_counts.csv'):\n",
    "    # Save the results to a CSV\n",
    "    user_data.to_csv(output_path, index=False)\n",
    "    print(f\"Datos de comentarios y videos por usuario guardados en: {output_path}\")\n",
    "\n",
    "user_data = group_comments_by_user(\"../data/cleaned_comments.csv\")\n",
    "save_grouped_comments(user_data)"
   ]
  }
 ],
 "metadata": {
  "kernelspec": {
   "display_name": "venv",
   "language": "python",
   "name": "python3"
  },
  "language_info": {
   "codemirror_mode": {
    "name": "ipython",
    "version": 3
   },
   "file_extension": ".py",
   "mimetype": "text/x-python",
   "name": "python",
   "nbconvert_exporter": "python",
   "pygments_lexer": "ipython3",
   "version": "3.13.3"
  }
 },
 "nbformat": 4,
 "nbformat_minor": 5
}

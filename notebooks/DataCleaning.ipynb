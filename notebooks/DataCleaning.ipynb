{
 "cells": [
  {
   "cell_type": "code",
   "execution_count": null,
   "id": "39a4b789-2dc9-4614-87eb-d9eee2307a3c",
   "metadata": {},
   "outputs": [
    {
     "name": "stdout",
     "output_type": "stream",
     "text": [
      "Cantidad de mensajes iniciales:  73147\n",
      "Comentarios vacíos:  1252\n",
      "Replies a comentarios vacíos:  26\n",
      "Cantidad de mensajes finales:  71870\n",
      "Los comentarios han sido limpiados y guardados en '../data/cleaned_comments.csv'.\n"
     ]
    }
   ],
   "source": [
    "# Limpieza de comentarios\n",
    "import pandas as pd\n",
    "import re\n",
    "\n",
    "def clean_comment(comment):\n",
    "    if pd.isnull(comment):  # Si es NaN, devolvemos string vacío\n",
    "        return ''\n",
    "    # Eliminar URLs\n",
    "    comment = re.sub(r'(http[s]?://\\S+|www\\.\\S+)', '', comment)\n",
    "    # Emoticones comunes\n",
    "    comment = re.sub(r'[:;=][-~]?[)D]', '', comment) \n",
    "    # Eliminar caracteres no alfabéticos o números\n",
    "    comment = re.sub(r'[^a-zA-ZáéíóúÁÉÍÓÚñÑüÜ\\s]', '', comment)\n",
    "    # Eliminar palabras demasiado cortas (como \"a\", \"b\", \"c\")\n",
    "    comment = re.sub(r'\\b\\w{1,2}\\b', '', comment)\n",
    "    # Eliminar espacios múltiples\n",
    "    comment = re.sub(r'\\s+', ' ', comment).strip()\n",
    "    return comment\n",
    "\n",
    "def clean_comments(csv_path):\n",
    "    # Cargar los datos de comentarios\n",
    "    df = pd.read_csv(csv_path)\n",
    "    \n",
    "    # Limpiar los comentarios\n",
    "    df['cleaned_comment'] = df['text'].apply(clean_comment)\n",
    "    \n",
    "    # Eliminar las filas donde el comentario está vacío después de la limpieza\n",
    "    # También se eliminan los replies a comentarios vacíos.\n",
    "    print(\"Cantidad de mensajes iniciales: \", df.shape[0])\n",
    "    mask_empty = (df['cleaned_comment'].str.strip() == '')\n",
    "    print(\"Comentarios vacíos: \", mask_empty.sum())\n",
    "    video_ids_to_filter = df[mask_empty][\"comment_id\"]\n",
    "    mask_replies = ((df['is_reply'] == True) & (df['reply_to_comment_id'].isin(video_ids_to_filter)))\n",
    "    print(\"Replies a comentarios vacíos: \", mask_replies.sum())\n",
    "    mask_to_remove = mask_empty | mask_replies\n",
    "    df = df[~mask_to_remove] #Eliminación de mensajes vacíos o replies a mensajes vacíos\n",
    "    print(\"Cantidad de mensajes finales: \", df.shape[0])\n",
    "    \n",
    "    # Guardar los resultados limpios en un nuevo archivo CSV\n",
    "    #df.to_csv('../data/cleaned_comments.csv', index=False)\n",
    "    print(\"Los comentarios han sido limpiados y guardados en '../data/cleaned_comments.csv'.\")\n",
    "    return df\n",
    "\n",
    "cleaned_comments = clean_comments('../data/comments.csv')"
   ]
  },
  {
   "cell_type": "code",
   "execution_count": 4,
   "id": "074462e4-3055-473e-955a-9e385e774edc",
   "metadata": {},
   "outputs": [
    {
     "name": "stdout",
     "output_type": "stream",
     "text": [
      "Datos de comentarios y videos por usuario guardados en: ../data/user_comment_video_counts.csv\n"
     ]
    }
   ],
   "source": [
    "# Estadística del número de comentarios por usuario y el número de videos en los que han comentado\n",
    "def group_comments_by_user(csv_path):\n",
    "    # Cargar los datos de comentarios\n",
    "    df = pd.read_csv(csv_path)\n",
    "    \n",
    "    # Agrupar por el nombre del autor y contar los comentarios por cada usuario\n",
    "    user_comment_count = df['author_name'].value_counts().reset_index()\n",
    "    user_comment_count.columns = ['author_name', 'comment_count']\n",
    "    \n",
    "    # Contar en cuántos videos distintos ha comentado cada usuario\n",
    "    user_video_count = df.groupby('author_name')['video_id'].nunique().reset_index()\n",
    "    user_video_count.columns = ['author_name', 'video_count']\n",
    "    \n",
    "    # Fusionar ambas tablas (comentarios y videos)\n",
    "    user_data = pd.merge(user_comment_count, user_video_count, on='author_name')\n",
    "    \n",
    "    # Ordenar los usuarios por la cantidad de comentarios\n",
    "    user_data = user_data.sort_values(by='comment_count', ascending=False)\n",
    "    \n",
    "    return user_data\n",
    "\n",
    "def save_grouped_comments(user_data, output_path='../data/user_comment_video_counts.csv'):\n",
    "    # Guardar los resultados en un CSV\n",
    "    user_data.to_csv(output_path, index=False)\n",
    "    print(f\"Datos de comentarios y videos por usuario guardados en: {output_path}\")\n",
    "\n",
    "user_data = group_comments_by_user(\"../data/cleaned_comments.csv\")\n",
    "# Guardar el resultado en un CSV\n",
    "save_grouped_comments(user_data)"
   ]
  }
 ],
 "metadata": {
  "kernelspec": {
   "display_name": "Python 3 (ipykernel)",
   "language": "python",
   "name": "python3"
  },
  "language_info": {
   "codemirror_mode": {
    "name": "ipython",
    "version": 3
   },
   "file_extension": ".py",
   "mimetype": "text/x-python",
   "name": "python",
   "nbconvert_exporter": "python",
   "pygments_lexer": "ipython3",
   "version": "3.12.1"
  }
 },
 "nbformat": 4,
 "nbformat_minor": 5
}

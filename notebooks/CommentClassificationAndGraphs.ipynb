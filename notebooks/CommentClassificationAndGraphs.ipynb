{
 "cells": [
  {
   "cell_type": "code",
   "execution_count": null,
   "id": "c579c0a8-5ee9-48bf-a384-f8df4bd51a44",
   "metadata": {},
   "outputs": [],
   "source": [
    "from vaderSentiment.vaderSentiment import SentimentIntensityAnalyzer\n",
    "import pandas as pd\n",
    "\n",
    "def classify_sentiment_vader(comment):\n",
    "    # Inicializar el analizador de VADER\n",
    "\n",
    "    analyzer = SentimentIntensityAnalyzer()\n",
    "    \n",
    "    # Obtener el puntaje de sentimiento\n",
    "    sentiment_score = analyzer.polarity_scores(comment)['compound']\n",
    "    \n",
    "    # Clasificar según el puntaje\n",
    "    if sentiment_score > 0.05:\n",
    "        return 'Positive'\n",
    "    elif sentiment_score < -0.05:\n",
    "        return 'Negative'\n",
    "    else:\n",
    "        return 'Neutral'\n",
    "\n",
    "def classify_comments_vader(csv_path):\n",
    "    # Cargar los datos de comentarios\n",
    "    df = pd.read_csv(csv_path)\n",
    "    # Clasificar los comentarios según su sentimiento\n",
    "    df['sentiment'] = df['cleaned_comment'].apply(classify_sentiment_vader)\n",
    "    \n",
    "    # Guardar los resultados con la clasificación de sentimiento\n",
    "    df.to_csv('../data/comments_with_sentiment_vader.csv', index=False)\n",
    "    print(\"Los comentarios con clasificación de sentimiento VADER han sido guardados.\")\n",
    "    \n",
    "    return df\n",
    "\n",
    "# Clasificar los comentarios usando VADER\n",
    "classified_comments_vader = classify_comments_vader('../data/cleaned_comments.csv')"
   ]
  }
 ],
 "metadata": {
  "kernelspec": {
   "display_name": "Python 3 (ipykernel)",
   "language": "python",
   "name": "python3"
  },
  "language_info": {
   "codemirror_mode": {
    "name": "ipython",
    "version": 3
   },
   "file_extension": ".py",
   "mimetype": "text/x-python",
   "name": "python",
   "nbconvert_exporter": "python",
   "pygments_lexer": "ipython3",
   "version": "3.12.2"
  }
 },
 "nbformat": 4,
 "nbformat_minor": 5
}

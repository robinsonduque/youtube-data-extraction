{
 "cells": [
  {
   "cell_type": "markdown",
   "id": "6b77709e",
   "metadata": {},
   "source": [
    "# Pseudoanonymized YouTube data extraction"
   ]
  },
  {
   "cell_type": "code",
   "execution_count": 1,
   "id": "d07dc52e",
   "metadata": {},
   "outputs": [],
   "source": [
    "import pandas as pd\n",
    "import hashlib\n",
    "import json\n",
    "import os\n",
    "import secrets"
   ]
  },
  {
   "cell_type": "code",
   "execution_count": 2,
   "id": "7ede7f88",
   "metadata": {},
   "outputs": [],
   "source": [
    "# CONSTANTS\n",
    "MAPPING_DIR = '../data/mappings' \n",
    "SALT = secrets.token_hex(16) # Randomly generated salt for hashing. It may be changed if you want to rehash the IDs."
   ]
  },
  {
   "cell_type": "code",
   "execution_count": 3,
   "id": "f87995f7",
   "metadata": {},
   "outputs": [],
   "source": [
    "# Create the directory if it doesn't exist\n",
    "os.makedirs(MAPPING_DIR, exist_ok=True)"
   ]
  },
  {
   "cell_type": "code",
   "execution_count": 4,
   "id": "e6700f3a",
   "metadata": {},
   "outputs": [],
   "source": [
    "def hash_with_salt(value, salt):\n",
    "    return  '' if pd.isnull(value) else hashlib.sha256((str(value) + salt).encode('utf-8')).hexdigest()"
   ]
  },
  {
   "cell_type": "code",
   "execution_count": 5,
   "id": "42dbb31c",
   "metadata": {},
   "outputs": [],
   "source": [
    "def anonymize_dataframe_columns(csv_path, columns, col_only_remove, salt):\n",
    "    df = pd.read_csv(csv_path)\n",
    "    \n",
    "    # Mapping dict\n",
    "    mapping_dict = {\n",
    "        \"salt\": salt,\n",
    "        \"mappings\": {}\n",
    "    }\n",
    "    \n",
    "    for col in columns:\n",
    "        col_mapping = {}\n",
    "        \n",
    "        df[col + \"_anon\"] = df[col].apply(lambda value: hash_with_salt(value, salt))    \n",
    "        \n",
    "        for original, anon in zip(df[col], df[col + \"_anon\"]):\n",
    "            if pd.isnull(original):\n",
    "                continue\n",
    "            col_mapping[anon] = original\n",
    "        mapping_dict[\"mappings\"][col] = col_mapping\n",
    "    \n",
    "    # Replace original columns with anonymized ones\n",
    "    for col in columns:\n",
    "        df[col] = df[col + \"_anon\"]\n",
    "        df.drop(columns=[col + \"_anon\"], inplace=True)\n",
    "    \n",
    "    # Remove only specified columns\n",
    "    df.drop(columns=col_only_remove, inplace=True)\n",
    "    \n",
    "    # Remove any unnamed columns (like index columns) \n",
    "    if \"Unnamed: 0\" in df.columns:\n",
    "        df.drop(columns=[\"Unnamed: 0\"], inplace=True)\n",
    "    \n",
    "    # Save dict to JSON files\n",
    "    with open(os.path.join(MAPPING_DIR, 'mapping.json'), 'w') as f:\n",
    "        json.dump(mapping_dict, f, ensure_ascii=False, indent=4)\n",
    "    print(f\"Mapping saved to: {os.path.join(MAPPING_DIR, 'mapping.json')}\")\n",
    "    \n",
    "    return df\n",
    "\n",
    "def save_anonymized_csv(df: pd.DataFrame, output_path):\n",
    "    df.to_csv(output_path, index=False)\n",
    "    print(f\"Anonymized CSV saved to: {output_path}\")"
   ]
  },
  {
   "cell_type": "code",
   "execution_count": 6,
   "id": "69f41cf4",
   "metadata": {},
   "outputs": [],
   "source": [
    "def deanonymize_dataframe_columns(csv_path, columns, mapping_path, output_path):\n",
    "    df = pd.read_csv(csv_path)\n",
    "\n",
    "    with open(mapping_path, 'r', encoding=\"utf-8\") as f:\n",
    "        mapping_dict = json.load(f)\n",
    "        \n",
    "    mappings = mapping_dict[\"mappings\"]\n",
    "    \n",
    "    for col in columns:\n",
    "        if col not in mappings:\n",
    "            print(f\"Warning: No mapping found for column '{col}'. Skipping.\")\n",
    "            continue\n",
    "        \n",
    "        col_mapping = mappings[col]\n",
    "        df[col] = df[col].map(col_mapping)\n",
    "        \n",
    "    # Save the restored DataFrame to a new CSV file\n",
    "    df.to_csv(output_path, index=False)\n",
    "    print(f\"Deanonymized CSV saved to: {output_path}\")\n",
    "    \n",
    "    return df\n"
   ]
  },
  {
   "cell_type": "code",
   "execution_count": 7,
   "id": "5558d85a",
   "metadata": {},
   "outputs": [
    {
     "name": "stdout",
     "output_type": "stream",
     "text": [
      "Mapping saved to: ../data/mappings/mapping.json\n",
      "Anonymized CSV saved to: ../data/comments_with_sentiment_class_anonymized.csv\n"
     ]
    }
   ],
   "source": [
    "anonymized_data = anonymize_dataframe_columns('../data/comments_with_sentiment_class.csv', ['comment_id', 'author_id', 'reply_to_comment_id', 'video_id'], ['author_name', 'text'], SALT)\n",
    "save_anonymized_csv(anonymized_data, '../data/comments_with_sentiment_class_anonymized.csv')"
   ]
  },
  {
   "cell_type": "code",
   "execution_count": 8,
   "id": "c0be5185",
   "metadata": {},
   "outputs": [
    {
     "name": "stdout",
     "output_type": "stream",
     "text": [
      "Deanonymized CSV saved to: ../data/comments_with_sentiment_class_deanonymized.csv\n"
     ]
    }
   ],
   "source": [
    "deanomymized_data = deanonymize_dataframe_columns('../data/comments_with_sentiment_class_anonymized.csv', ['comment_id', 'author_id', 'reply_to_comment_id', 'video_id'], MAPPING_DIR+'/mapping.json', '../data/comments_with_sentiment_class_deanonymized.csv')"
   ]
  }
 ],
 "metadata": {
  "kernelspec": {
   "display_name": "venv",
   "language": "python",
   "name": "python3"
  },
  "language_info": {
   "codemirror_mode": {
    "name": "ipython",
    "version": 3
   },
   "file_extension": ".py",
   "mimetype": "text/x-python",
   "name": "python",
   "nbconvert_exporter": "python",
   "pygments_lexer": "ipython3",
   "version": "3.12.10"
  }
 },
 "nbformat": 4,
 "nbformat_minor": 5
}

{
 "cells": [
  {
   "cell_type": "markdown",
   "id": "e207b04b",
   "metadata": {},
   "source": [
    "# Import dependencies"
   ]
  },
  {
   "cell_type": "code",
   "execution_count": null,
   "id": "a92ca107",
   "metadata": {},
   "outputs": [],
   "source": [
    "# Base libraries\n",
    "import os\n",
    "import pandas as pd\n",
    "import numpy as np\n",
    "import regex as re\n",
    "from dotenv import load_dotenv\n",
    "\n",
    "# youtube libraries\n",
    "from youtube_transcript_api import YouTubeTranscriptApi\n",
    "\n",
    "# summary libraries\n",
    "from sumy.parsers.plaintext import PlaintextParser\n",
    "from sumy.nlp.tokenizers import Tokenizer\n",
    "from sumy.summarizers.lsa import LsaSummarizer  # Cambiado a LsaSummarizer"
   ]
  },
  {
   "cell_type": "markdown",
   "id": "776ede35",
   "metadata": {},
   "source": [
    "# Load Data"
   ]
  },
  {
   "cell_type": "code",
   "execution_count": null,
   "id": "06824b3d",
   "metadata": {},
   "outputs": [],
   "source": [
    "file = \"your_file.csv\"\n",
    "df = pd.read_csv(file)\n",
    "df.info()"
   ]
  },
  {
   "cell_type": "markdown",
   "id": "1794a07b",
   "metadata": {},
   "source": [
    "# Get video trasncript"
   ]
  },
  {
   "cell_type": "code",
   "execution_count": null,
   "id": "a5941578",
   "metadata": {},
   "outputs": [],
   "source": [
    "def transcript_video(video_id):\n",
    "    # Fetch the transcript for the given video ID\n",
    "    transcript = YouTubeTranscriptApi.get_transcript(video_id, languages=['es'])\n",
    "    return transcript\n",
    "\n",
    "def transcript_to_text(transcript):\n",
    "    # Concatenate all snippets into a single string\n",
    "    t = ''\n",
    "    for snippet in transcript:\n",
    "        t += snippet['text'] + '. '\n",
    "    t = t.replace('  ',' ')\n",
    "    return t"
   ]
  },
  {
   "cell_type": "code",
   "execution_count": null,
   "id": "ae7f8cca",
   "metadata": {},
   "outputs": [],
   "source": [
    "def resumen_sumy(texto, num_oraciones=5):\n",
    "    # Verificar si el texto está vacío o muy corto\n",
    "    if not texto.strip():\n",
    "        return \"El texto de entrada está vacío.\"\n",
    "    \n",
    "    parser = PlaintextParser.from_string(texto, Tokenizer(\"spanish\"))\n",
    "    summarizer = LsaSummarizer()  # Cambiar el algoritmo si es necesario\n",
    "    resumen = summarizer(parser.document, num_oraciones)\n",
    "    return \" \".join(str(oracion) for oracion in resumen)"
   ]
  },
  {
   "cell_type": "code",
   "execution_count": null,
   "id": "e09ccac6",
   "metadata": {},
   "outputs": [],
   "source": [
    "def get_video_transcript(): \n",
    "    for index, row in df[df['summary_Sumy'].isna()].iterrows():\n",
    "        if index % 10 == 0:\n",
    "            print(f\"{index} videos processed...\")\n",
    "        try: \n",
    "            transcript = transcript_video(row['video_id'])\n",
    "            text = transcript_to_text(transcript)\n",
    "            df.at[index, 'summary_Sumy'] = resumen_sumy(text)\n",
    "        except Exception as e:\n",
    "            print(f\"Error processing video ID {row['video_id']}: {e}\")\n",
    "            df.at[index, 'summary_Sumy'] = 'resumen no disponible'"
   ]
  },
  {
   "cell_type": "code",
   "execution_count": null,
   "id": "184c7941",
   "metadata": {},
   "outputs": [],
   "source": [
    "get_video_transcript()"
   ]
  },
  {
   "cell_type": "code",
   "execution_count": null,
   "id": "333d59ea",
   "metadata": {},
   "outputs": [],
   "source": [
    "df.to_csv(file, index=False)"
   ]
  }
 ],
 "metadata": {
  "kernelspec": {
   "display_name": "venv",
   "language": "python",
   "name": "python3"
  },
  "language_info": {
   "name": "python",
   "version": "3.12.3"
  }
 },
 "nbformat": 4,
 "nbformat_minor": 5
}

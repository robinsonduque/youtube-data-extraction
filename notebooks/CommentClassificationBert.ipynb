{
 "cells": [
  {
   "cell_type": "code",
   "execution_count": null,
   "id": "12052df6",
   "metadata": {},
   "outputs": [],
   "source": [
    "import pandas as pd\n",
    "import matplotlib.pyplot as plt\n",
    "from transformers import pipeline \n",
    "\n",
    "\n",
    "def classify_sentiment_bert(comment, analyzer):\n",
    "    # Get the sentiment score\n",
    "    sentiment_score = analyzer(str(comment))\n",
    "    \n",
    "    # Clasify the sentiment based on the score\n",
    "    if sentiment_score[0][\"label\"] == \"POS\":\n",
    "        return 'Positive'\n",
    "    elif sentiment_score[0][\"label\"] == \"NEG\":\n",
    "        return 'Negative'\n",
    "    else:\n",
    "        return 'Neutral'\n",
    "\n",
    "def classify_comments_bert(csv_path):\n",
    "    df = pd.read_csv(csv_path)\n",
    "\n",
    "    analyzer = pipeline(\"sentiment-analysis\", model=\"pysentimiento/robertuito-sentiment-analysis\", truncation = True) \n",
    "    # BERT only processes up to 128 tokens, so truncation is enabled\n",
    "    \n",
    "    sentiments = []\n",
    "\n",
    "    for i, row in df.iterrows():\n",
    "        sentiment = classify_sentiment_bert(row['cleaned_comment'], analyzer)\n",
    "        sentiments.append(sentiment)\n",
    "\n",
    "        if i % 1000 == 0 and i > 0: # type: ignore\n",
    "            print(f\"Clasificados {i} comentarios...\")\n",
    "\n",
    "    df['sentiment_Bert'] = sentiments\n",
    "    df.to_csv('../data/comments_with_sentiment.csv', index=False)\n",
    "    print(\"Los comentarios con clasificación de sentimiento Bert han sido guardados.\")\n",
    "    \n",
    "    return df\n",
    "\n",
    "# Clasify comments using BERT and save the results\n",
    "classified_comments_bert = classify_comments_bert('../data/comments_with_sentiment.csv')"
   ]
  },
  {
   "cell_type": "code",
   "execution_count": null,
   "id": "2fc3a4db",
   "metadata": {},
   "outputs": [],
   "source": [
    "classified_comments_bert['sentiment_Bert'].hist()"
   ]
  }
 ],
 "metadata": {
  "language_info": {
   "name": "python"
  }
 },
 "nbformat": 4,
 "nbformat_minor": 5
}

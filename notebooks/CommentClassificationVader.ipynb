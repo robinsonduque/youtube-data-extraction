{
 "cells": [
  {
   "cell_type": "code",
   "execution_count": null,
   "id": "ca59fb74-95ef-430e-a3a7-edb468108787",
   "metadata": {},
   "outputs": [],
   "source": [
    "from vaderSentiment.vaderSentiment import SentimentIntensityAnalyzer\n",
    "import pandas as pd\n",
    "import matplotlib.pyplot as plt\n",
    "\n",
    "\n",
    "def classify_sentiment_vader(comment, analyzer):\n",
    "    # Obtener el puntaje de sentimiento\n",
    "    sentiment_score = analyzer.polarity_scores(str(comment))['compound']\n",
    "    \n",
    "    # Clasificar según el puntaje\n",
    "    if sentiment_score > 0.05:\n",
    "        return 'Positive'\n",
    "    elif sentiment_score < -0.05:\n",
    "        return 'Negative'\n",
    "    else:\n",
    "        return 'Neutral'\n",
    "\n",
    "def classify_comments_vader(csv_path):\n",
    "    df = pd.read_csv(csv_path)\n",
    "\n",
    "    analyzer = SentimentIntensityAnalyzer()\n",
    "    sentiments = []\n",
    "\n",
    "    for i, row in df.iterrows():\n",
    "        sentiment = classify_sentiment_vader(row['cleaned_comment'], analyzer)\n",
    "        sentiments.append(sentiment)\n",
    "\n",
    "        if i % 10000 == 0 and i > 0:\n",
    "            print(f\"Clasificados {i} comentarios...\")\n",
    "\n",
    "    df['sentiment_Vader'] = sentiments\n",
    "    df.to_csv('../data/comments_with_sentiment.csv', index=False)\n",
    "    print(\"Los comentarios con clasificación de sentimiento VADER han sido guardados.\")\n",
    "    \n",
    "    return df\n",
    "\n",
    "# Clasificar los comentarios usando VADER\n",
    "classified_comments_vader = classify_comments_vader('../data/cleaned_comments.csv')\n"
   ]
  },
  {
   "cell_type": "code",
   "execution_count": null,
   "id": "119aa991-d3df-4e23-b8d4-3a0bf3f1f695",
   "metadata": {},
   "outputs": [],
   "source": [
    "classified_comments_vader['sentiment_Vader'].hist()"
   ]
  },
  {
   "cell_type": "code",
   "execution_count": null,
   "id": "c85e5151-7919-410d-9226-2e1bf15901b9",
   "metadata": {},
   "outputs": [],
   "source": []
  }
 ],
 "metadata": {
  "kernelspec": {
   "display_name": "Python 3 (ipykernel)",
   "language": "python",
   "name": "python3"
  },
  "language_info": {
   "codemirror_mode": {
    "name": "ipython",
    "version": 3
   },
   "file_extension": ".py",
   "mimetype": "text/x-python",
   "name": "python",
   "nbconvert_exporter": "python",
   "pygments_lexer": "ipython3",
   "version": "3.12.1"
  }
 },
 "nbformat": 4,
 "nbformat_minor": 5
}
